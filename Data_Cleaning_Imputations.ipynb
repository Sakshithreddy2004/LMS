{
  "nbformat": 4,
  "nbformat_minor": 0,
  "metadata": {
    "colab": {
      "provenance": []
    },
    "kernelspec": {
      "name": "python3",
      "display_name": "Python 3"
    },
    "language_info": {
      "name": "python"
    }
  },
  "cells": [
    {
      "cell_type": "code",
      "execution_count": null,
      "metadata": {
        "id": "_R_TsqTMVQk9"
      },
      "outputs": [],
      "source": [
        "# Data cleaning imputations\n",
        "import pandas as pd\n",
        "import numpy as np\n",
        "from sklearn.impute import SimpleImputer"
      ]
    },
    {
      "cell_type": "code",
      "source": [
        "import pandas as pd\n",
        "\n",
        "#Creating a simple data\n",
        "\n",
        "data ={\n",
        "    'Age':[25,None,30,35,None,4.5],\n",
        "    'Height':[5.5,6.1,5.9,None,5.8,5.2],\n",
        "    'HelmetStstus':[1,None,1,0,1,1],\n",
        "    'Gender':['M','F','M',None,'F','M'],\n",
        "    'Experience':[2,4,6,1,None,None]\n",
        "}\n",
        "\n",
        "df=pd.DataFrame(data)\n",
        "print(\"Original DataFrame with missing Values:\")\n",
        "print(df)\n",
        "\n",
        "#Hndling missing values by replacing with  mean,median,mode\n",
        "#Replacing missing values for numerical columns\n",
        "\n",
        "df_filled_mean = df.copy()\n",
        "df_filled_median = df.copy()\n",
        "df_filled_mode = df.copy()\n",
        "\n",
        "#Replacing missing values for mean numerical columns\n",
        "\n",
        "df_filled_mean['Age'].fillna(df['Age'].mean(),inplace=True)\n",
        "df_filled_mean['Height'].fillna(df['Height'].mean(),inplace=True)\n",
        "df_filled_mean['Experience'].fillna(df['Experience'].mean(),inplace=True)\n",
        "\n",
        "#Replacing missing values for median numerical columns\n",
        "\n",
        "df_filled_median['Age'].fillna(df['Age'].median(),inplace=True)\n",
        "df_filled_median['Height'].fillna(df['Height'].median(),inplace=True)\n",
        "df_filled_median['Experience'].fillna(df['Experience'].median(),inplace=True)\n",
        "\n",
        "#Replacing missing values for mode numerical columns\n",
        "\n",
        "df_filled_mode['Age'].fillna(df['Age'].mode()[0],inplace=True)\n",
        "df_filled_mode['Height'].fillna(df['Height'].mode()[0],inplace=True)\n",
        "\n",
        "\n",
        "# Show the results for all imputations\n",
        "\n",
        "print(\"\\nDataFrame after filling missing values with mean:\")\n",
        "print(df_filled_mean)\n",
        "\n",
        "print(\"\\nDataFrame after filling missing values with median:\")\n",
        "print(df_filled_median)\n",
        "\n",
        "print(\"\\nDataFrame after filling missing values with mode:\")\n",
        "print(df_filled_mode)"
      ],
      "metadata": {
        "colab": {
          "base_uri": "https://localhost:8080/"
        },
        "id": "PgEn-LVdY4Cg",
        "outputId": "dbb75da4-2f99-44a9-8f2e-6acb870ec3fa"
      },
      "execution_count": 5,
      "outputs": [
        {
          "output_type": "stream",
          "name": "stdout",
          "text": [
            "Original DataFrame with missing Values:\n",
            "    Age  Height  HelmetStstus Gender  Experience\n",
            "0  25.0     5.5           1.0      M         2.0\n",
            "1   NaN     6.1           NaN      F         4.0\n",
            "2  30.0     5.9           1.0      M         6.0\n",
            "3  35.0     NaN           0.0   None         1.0\n",
            "4   NaN     5.8           1.0      F         NaN\n",
            "5   4.5     5.2           1.0      M         NaN\n",
            "\n",
            "DataFrame after filling missing values with mean:\n",
            "      Age  Height  HelmetStstus Gender  Experience\n",
            "0  25.000     5.5           1.0      M        2.00\n",
            "1  23.625     6.1           NaN      F        4.00\n",
            "2  30.000     5.9           1.0      M        6.00\n",
            "3  35.000     5.7           0.0   None        1.00\n",
            "4  23.625     5.8           1.0      F        3.25\n",
            "5   4.500     5.2           1.0      M        3.25\n",
            "\n",
            "DataFrame after filling missing values with median:\n",
            "    Age  Height  HelmetStstus Gender  Experience\n",
            "0  25.0     5.5           1.0      M         2.0\n",
            "1  27.5     6.1           NaN      F         4.0\n",
            "2  30.0     5.9           1.0      M         6.0\n",
            "3  35.0     5.8           0.0   None         1.0\n",
            "4  27.5     5.8           1.0      F         3.0\n",
            "5   4.5     5.2           1.0      M         3.0\n",
            "\n",
            "DataFrame after filling missing values with mode:\n",
            "    Age  Height  HelmetStstus Gender  Experience\n",
            "0  25.0     5.5           1.0      M         2.0\n",
            "1   4.5     6.1           NaN      F         4.0\n",
            "2  30.0     5.9           1.0      M         6.0\n",
            "3  35.0     5.2           0.0   None         1.0\n",
            "4   4.5     5.8           1.0      F         NaN\n",
            "5   4.5     5.2           1.0      M         NaN\n"
          ]
        },
        {
          "output_type": "stream",
          "name": "stderr",
          "text": [
            "<ipython-input-5-0f0a0d095b59>:26: FutureWarning: A value is trying to be set on a copy of a DataFrame or Series through chained assignment using an inplace method.\n",
            "The behavior will change in pandas 3.0. This inplace method will never work because the intermediate object on which we are setting values always behaves as a copy.\n",
            "\n",
            "For example, when doing 'df[col].method(value, inplace=True)', try using 'df.method({col: value}, inplace=True)' or df[col] = df[col].method(value) instead, to perform the operation inplace on the original object.\n",
            "\n",
            "\n",
            "  df_filled_mean['Age'].fillna(df['Age'].mean(),inplace=True)\n",
            "<ipython-input-5-0f0a0d095b59>:27: FutureWarning: A value is trying to be set on a copy of a DataFrame or Series through chained assignment using an inplace method.\n",
            "The behavior will change in pandas 3.0. This inplace method will never work because the intermediate object on which we are setting values always behaves as a copy.\n",
            "\n",
            "For example, when doing 'df[col].method(value, inplace=True)', try using 'df.method({col: value}, inplace=True)' or df[col] = df[col].method(value) instead, to perform the operation inplace on the original object.\n",
            "\n",
            "\n",
            "  df_filled_mean['Height'].fillna(df['Height'].mean(),inplace=True)\n",
            "<ipython-input-5-0f0a0d095b59>:28: FutureWarning: A value is trying to be set on a copy of a DataFrame or Series through chained assignment using an inplace method.\n",
            "The behavior will change in pandas 3.0. This inplace method will never work because the intermediate object on which we are setting values always behaves as a copy.\n",
            "\n",
            "For example, when doing 'df[col].method(value, inplace=True)', try using 'df.method({col: value}, inplace=True)' or df[col] = df[col].method(value) instead, to perform the operation inplace on the original object.\n",
            "\n",
            "\n",
            "  df_filled_mean['Experience'].fillna(df['Experience'].mean(),inplace=True)\n",
            "<ipython-input-5-0f0a0d095b59>:32: FutureWarning: A value is trying to be set on a copy of a DataFrame or Series through chained assignment using an inplace method.\n",
            "The behavior will change in pandas 3.0. This inplace method will never work because the intermediate object on which we are setting values always behaves as a copy.\n",
            "\n",
            "For example, when doing 'df[col].method(value, inplace=True)', try using 'df.method({col: value}, inplace=True)' or df[col] = df[col].method(value) instead, to perform the operation inplace on the original object.\n",
            "\n",
            "\n",
            "  df_filled_median['Age'].fillna(df['Age'].median(),inplace=True)\n",
            "<ipython-input-5-0f0a0d095b59>:33: FutureWarning: A value is trying to be set on a copy of a DataFrame or Series through chained assignment using an inplace method.\n",
            "The behavior will change in pandas 3.0. This inplace method will never work because the intermediate object on which we are setting values always behaves as a copy.\n",
            "\n",
            "For example, when doing 'df[col].method(value, inplace=True)', try using 'df.method({col: value}, inplace=True)' or df[col] = df[col].method(value) instead, to perform the operation inplace on the original object.\n",
            "\n",
            "\n",
            "  df_filled_median['Height'].fillna(df['Height'].median(),inplace=True)\n",
            "<ipython-input-5-0f0a0d095b59>:34: FutureWarning: A value is trying to be set on a copy of a DataFrame or Series through chained assignment using an inplace method.\n",
            "The behavior will change in pandas 3.0. This inplace method will never work because the intermediate object on which we are setting values always behaves as a copy.\n",
            "\n",
            "For example, when doing 'df[col].method(value, inplace=True)', try using 'df.method({col: value}, inplace=True)' or df[col] = df[col].method(value) instead, to perform the operation inplace on the original object.\n",
            "\n",
            "\n",
            "  df_filled_median['Experience'].fillna(df['Experience'].median(),inplace=True)\n",
            "<ipython-input-5-0f0a0d095b59>:38: FutureWarning: A value is trying to be set on a copy of a DataFrame or Series through chained assignment using an inplace method.\n",
            "The behavior will change in pandas 3.0. This inplace method will never work because the intermediate object on which we are setting values always behaves as a copy.\n",
            "\n",
            "For example, when doing 'df[col].method(value, inplace=True)', try using 'df.method({col: value}, inplace=True)' or df[col] = df[col].method(value) instead, to perform the operation inplace on the original object.\n",
            "\n",
            "\n",
            "  df_filled_mode['Age'].fillna(df['Age'].mode()[0],inplace=True)\n",
            "<ipython-input-5-0f0a0d095b59>:39: FutureWarning: A value is trying to be set on a copy of a DataFrame or Series through chained assignment using an inplace method.\n",
            "The behavior will change in pandas 3.0. This inplace method will never work because the intermediate object on which we are setting values always behaves as a copy.\n",
            "\n",
            "For example, when doing 'df[col].method(value, inplace=True)', try using 'df.method({col: value}, inplace=True)' or df[col] = df[col].method(value) instead, to perform the operation inplace on the original object.\n",
            "\n",
            "\n",
            "  df_filled_mode['Height'].fillna(df['Height'].mode()[0],inplace=True)\n"
          ]
        }
      ]
    },
    {
      "cell_type": "code",
      "source": [
        "import pandas as pd\n",
        "\n",
        "data={\n",
        "    'Name':['Jhon','Alex','Rob','Eleven','Rob'],\n",
        "    'Age':[23,12,22,45,22],\n",
        "    'City':['New York','London','Paris','Tokyo','Paris']\n",
        "}\n",
        "df=pd.DataFrame(data)\n",
        "print(\"Original Data:\")\n",
        "print(df)\n",
        "#identify duplicate rows\n",
        "duplicates = df[df.duplicated()]\n",
        "print(\"\\nIdentified Duplicates:\")\n",
        "print(duplicates)\n",
        "\n",
        "df_cleaned = df.drop_duplicates()\n",
        "print(\"\\nDataFrame after removing duplicates:\")\n",
        "print(df_cleaned)\n"
      ],
      "metadata": {
        "colab": {
          "base_uri": "https://localhost:8080/"
        },
        "id": "iy-36XU8aXy8",
        "outputId": "af57aaf9-6eaf-4a2f-e0ea-996edf1e44fb"
      },
      "execution_count": 9,
      "outputs": [
        {
          "output_type": "stream",
          "name": "stdout",
          "text": [
            "Original Data:\n",
            "     Name  Age      City\n",
            "0    Jhon   23  New York\n",
            "1    Alex   12    London\n",
            "2     Rob   22     Paris\n",
            "3  Eleven   45     Tokyo\n",
            "4     Rob   22     Paris\n",
            "\n",
            "Identified Duplicates:\n",
            "  Name  Age   City\n",
            "4  Rob   22  Paris\n",
            "\n",
            "DataFrame after removing duplicates:\n",
            "     Name  Age      City\n",
            "0    Jhon   23  New York\n",
            "1    Alex   12    London\n",
            "2     Rob   22     Paris\n",
            "3  Eleven   45     Tokyo\n"
          ]
        }
      ]
    },
    {
      "cell_type": "markdown",
      "source": [],
      "metadata": {
        "id": "7MQzO6t1cBpq"
      }
    }
  ]
}