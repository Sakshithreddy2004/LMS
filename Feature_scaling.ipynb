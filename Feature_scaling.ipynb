{
  "nbformat": 4,
  "nbformat_minor": 0,
  "metadata": {
    "colab": {
      "provenance": [],
      "authorship_tag": "ABX9TyOmM71RqXP+3yswoij6zuWP",
      "include_colab_link": true
    },
    "kernelspec": {
      "name": "python3",
      "display_name": "Python 3"
    },
    "language_info": {
      "name": "python"
    }
  },
  "cells": [
    {
      "cell_type": "markdown",
      "metadata": {
        "id": "view-in-github",
        "colab_type": "text"
      },
      "source": [
        "<a href=\"https://colab.research.google.com/github/Sakshithreddy2004/LMS/blob/main/Feature_scaling.ipynb\" target=\"_parent\"><img src=\"https://colab.research.google.com/assets/colab-badge.svg\" alt=\"Open In Colab\"/></a>"
      ]
    },
    {
      "cell_type": "code",
      "source": [
        "import pandas as pd\n",
        "from sklearn.preprocessing import MinMaxScaler\n",
        "\n",
        "#sample data\n",
        "data = {\n",
        "    \"age\" : [25, 30, 35, 40],\n",
        "    \"height\" : [150, 160, 170, 180],\n",
        "    \"weight\" : [50, 60, 70, 80]\n",
        "}\n",
        "\n",
        "data_frame = pd.DataFrame(data)\n",
        "print(\"Original DataFrame:\")\n",
        "print(data_frame)\n",
        "\n",
        "#convert daa to a DataFrame\n",
        "df = pd.DataFrame(data)\n",
        "\n",
        "#intialze the MnMaxScaler\n",
        "scaler = MinMaxScaler()\n",
        "\n",
        "#fit and transform the data\n",
        "normalized_data = scaler.fit_transform(data_frame)\n",
        "\n",
        "#create a new DataFrame with the normalized data\n",
        "# Corrected line: changed 'coloumns' to 'columns'\n",
        "normalized_df = pd.DataFrame(normalized_data, columns=df.columns)\n",
        "\n",
        "#create a new DataFrame with the scaled data\n",
        "\n",
        "print(\"\\nNormalized DataFreame (scaled to range [0,1]): \")\n",
        "print(normalized_df)\n",
        "\n",
        "# initialize standardScaler\n",
        "scaler = StandardScaler()\n",
        "\n",
        "#Apply standarddization\n",
        "standardized_data = scaler.fit_transform(data_frame)\n",
        "\n",
        "#create a new DataFrame with the standardized data\n",
        "standardized_df = pd.DataFrame(standardized_data, columns=df.columns)"
      ],
      "metadata": {
        "colab": {
          "base_uri": "https://localhost:8080/"
        },
        "id": "90ipiRSESyN1",
        "outputId": "fd63666e-6adc-454f-8cc3-f436f855629a"
      },
      "execution_count": null,
      "outputs": [
        {
          "output_type": "stream",
          "name": "stdout",
          "text": [
            "Original DataFrame:\n",
            "   age  height  weight\n",
            "0   25     150      50\n",
            "1   30     160      60\n",
            "2   35     170      70\n",
            "3   40     180      80\n",
            "\n",
            "Normalized DataFreame (scaled to range [0,1]): \n",
            "        age    height    weight\n",
            "0  0.000000  0.000000  0.000000\n",
            "1  0.333333  0.333333  0.333333\n",
            "2  0.666667  0.666667  0.666667\n",
            "3  1.000000  1.000000  1.000000\n"
          ]
        }
      ]
    },
    {
      "cell_type": "code",
      "source": [
        "import pandas as pd\n",
        "from sklearn.preprocessing import LabelEncoder\n",
        "\n",
        "data = {\n",
        "    \"customer_id\": [1,2,3,4],\n",
        "    \"gender\": [\"male\", \"female\", \"male\", \"female\"],\n",
        "    \"subscription_status\": [\"Active\", \"Inactive\", \"Active\", \"Inactive\"],\n",
        "}\n",
        "\n",
        "#convert data to a dataFrame\n",
        "df = pd.DataFrame(data)\n",
        "print(\"Original DataFrame:\")\n",
        "print(df)\n",
        "\n",
        "#Intialize labelencord\n",
        "label_encoder = LabelEncoder()\n",
        "\n",
        "#Apply Label Encoder to 'gender'\n",
        "df['gender_encoder'] = label_encoder.fit_transform(df['gender'])\n",
        "\n",
        "print(\"\\nDataFrame after label Encoding:\")\n",
        "print(df)"
      ],
      "metadata": {
        "id": "KICtz-C3UpR8",
        "colab": {
          "base_uri": "https://localhost:8080/"
        },
        "outputId": "2869bf1a-67e9-4548-d68d-7f7aaa77f64a"
      },
      "execution_count": 3,
      "outputs": [
        {
          "output_type": "stream",
          "name": "stdout",
          "text": [
            "Original DataFrame:\n",
            "   customer_id  gender subscription_status\n",
            "0            1    male              Active\n",
            "1            2  female            Inactive\n",
            "2            3    male              Active\n",
            "3            4  female            Inactive\n",
            "\n",
            "DataFrame after label Encoding:\n",
            "   customer_id  gender subscription_status  gender_encoder\n",
            "0            1    male              Active               1\n",
            "1            2  female            Inactive               0\n",
            "2            3    male              Active               1\n",
            "3            4  female            Inactive               0\n"
          ]
        }
      ]
    },
    {
      "cell_type": "code",
      "source": [
        "import pandas as pd\n",
        "from sklearn.preprocessing import OneHotEncoder\n",
        "\n",
        "data = {\n",
        "    \"Customer_id\": [1,2,3,4],\n",
        "    \"gender\": [\"male\", \"female\", \"male\", \"female\"],\n",
        "    \"subscription_status\": [\"Active\", \"Inactive\", \"Active\", \"Inactive\"],\n",
        "}\n",
        "\n",
        "#convert data to a DataFrame\n",
        "df = pd.DataFrame(data)\n",
        "print(\"Original DataFrame:\")\n",
        "print(df)\n",
        "\n",
        "\n",
        "#intialize one hot encoder\n",
        "one_hot_encoder = OneHotEncoder(sparse_output=False)\n",
        "columns_to_encode = [\"gender\",\"subscription_status\"]\n",
        "\n",
        "# Fix: Use square brackets to select columns\n",
        "encoded_data = one_hot_encoder.fit_transform(df[columns_to_encode])\n",
        "\n",
        "encode_columns = one_hot_encoder.get_feature_names_out(columns_to_encode)\n",
        "\n",
        "# Fix: Correct variable name from 'encoder_data' to 'encoded_data'\n",
        "encoded_df = pd.DataFrame(encoded_data, columns=encode_columns)\n",
        "\n",
        "print(encoded_df)"
      ],
      "metadata": {
        "colab": {
          "base_uri": "https://localhost:8080/"
        },
        "id": "dUINcD3iatxL",
        "outputId": "9d78d40a-ac39-4dfb-dac8-b765daef7173"
      },
      "execution_count": 8,
      "outputs": [
        {
          "output_type": "stream",
          "name": "stdout",
          "text": [
            "Original DataFrame:\n",
            "   Customer_id  gender subscription_status\n",
            "0            1    male              Active\n",
            "1            2  female            Inactive\n",
            "2            3    male              Active\n",
            "3            4  female            Inactive\n",
            "   gender_female  gender_male  subscription_status_Active  \\\n",
            "0            0.0          1.0                         1.0   \n",
            "1            1.0          0.0                         0.0   \n",
            "2            0.0          1.0                         1.0   \n",
            "3            1.0          0.0                         0.0   \n",
            "\n",
            "   subscription_status_Inactive  \n",
            "0                           0.0  \n",
            "1                           1.0  \n",
            "2                           0.0  \n",
            "3                           1.0  \n"
          ]
        }
      ]
    },
    {
      "cell_type": "code",
      "source": [],
      "metadata": {
        "id": "lhqcBfJOcQVC"
      },
      "execution_count": 8,
      "outputs": []
    }
  ]
}