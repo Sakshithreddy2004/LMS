{
  "nbformat": 4,
  "nbformat_minor": 0,
  "metadata": {
    "colab": {
      "provenance": [],
      "authorship_tag": "ABX9TyO8AtqCIDX2Aca5302r1xiO",
      "include_colab_link": true
    },
    "kernelspec": {
      "name": "python3",
      "display_name": "Python 3"
    },
    "language_info": {
      "name": "python"
    }
  },
  "cells": [
    {
      "cell_type": "markdown",
      "metadata": {
        "id": "view-in-github",
        "colab_type": "text"
      },
      "source": [
        "<a href=\"https://colab.research.google.com/github/Sakshithreddy2004/LMS/blob/main/Feature_scaling.ipynb\" target=\"_parent\"><img src=\"https://colab.research.google.com/assets/colab-badge.svg\" alt=\"Open In Colab\"/></a>"
      ]
    },
    {
      "cell_type": "code",
      "source": [
        "import pandas as pd\n",
        "from sklearn.preprocessing import MinMaxScaler\n",
        "\n",
        "#sample data\n",
        "data = {\n",
        "    \"age\" : [25, 30, 35, 40],\n",
        "    \"height\" : [150, 160, 170, 180],\n",
        "    \"weight\" : [50, 60, 70, 80]\n",
        "}\n",
        "\n",
        "data_frame = pd.DataFrame(data)\n",
        "print(\"Original DataFrame:\")\n",
        "print(data_frame)\n",
        "\n",
        "#convert daa to a DataFrame\n",
        "df = pd.DataFrame(data)\n",
        "\n",
        "#intialze the MnMaxScaler\n",
        "scaler = MinMaxScaler()\n",
        "\n",
        "#fit and transform the data\n",
        "normalized_data = scaler.fit_transform(data_frame)\n",
        "\n",
        "#create a new DataFrame with the normalized data\n",
        "# Corrected line: changed 'coloumns' to 'columns'\n",
        "normalized_df = pd.DataFrame(normalized_data, columns=df.columns)\n",
        "\n",
        "#create a new DataFrame with the scaled data\n",
        "\n",
        "print(\"\\nNormalized DataFreame (scaled to range [0,1]): \")\n",
        "print(normalized_df)\n",
        "\n",
        "# initialize standardScaler\n",
        "scaler = StandardScaler()\n",
        "\n",
        "#Apply standarddization\n",
        "standardized_data = scaler.fit_transform(data_frame)\n",
        "\n",
        "#create a new DataFrame with the standardized data\n",
        "standardized_df = pd.DataFrame(standardized_data, columns=df.columns)"
      ],
      "metadata": {
        "colab": {
          "base_uri": "https://localhost:8080/"
        },
        "id": "90ipiRSESyN1",
        "outputId": "fd63666e-6adc-454f-8cc3-f436f855629a"
      },
      "execution_count": 8,
      "outputs": [
        {
          "output_type": "stream",
          "name": "stdout",
          "text": [
            "Original DataFrame:\n",
            "   age  height  weight\n",
            "0   25     150      50\n",
            "1   30     160      60\n",
            "2   35     170      70\n",
            "3   40     180      80\n",
            "\n",
            "Normalized DataFreame (scaled to range [0,1]): \n",
            "        age    height    weight\n",
            "0  0.000000  0.000000  0.000000\n",
            "1  0.333333  0.333333  0.333333\n",
            "2  0.666667  0.666667  0.666667\n",
            "3  1.000000  1.000000  1.000000\n"
          ]
        }
      ]
    },
    {
      "cell_type": "code",
      "source": [],
      "metadata": {
        "id": "KICtz-C3UpR8"
      },
      "execution_count": null,
      "outputs": []
    }
  ]
}